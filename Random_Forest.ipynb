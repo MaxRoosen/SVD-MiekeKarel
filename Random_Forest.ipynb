{
 "cells": [
  {
   "cell_type": "code",
   "execution_count": 127,
   "id": "08559b10",
   "metadata": {},
   "outputs": [],
   "source": [
    "import pandas as pd\n",
    "from sklearn.datasets import load_digits\n",
    "digits = load_digits()"
   ]
  },
  {
   "cell_type": "code",
   "execution_count": 128,
   "id": "189572a6",
   "metadata": {},
   "outputs": [],
   "source": [
    "from pandas import read_csv\n",
    "data = read_csv('Model_D.csv', header=0, delimiter=';')"
   ]
  },
  {
   "cell_type": "code",
   "execution_count": 129,
   "id": "46209705",
   "metadata": {},
   "outputs": [],
   "source": [
    "if 'ppnnr' in data:\n",
    "\tdata = data.drop(['ppnnr'], axis='columns')\n",
    "# if 'DatInfo' in data:\n",
    "# \tdata = data.drop(['DatInfo'],axis='columns')\n",
    "# if 'Datbloed' in data:\n",
    "# \tdata = data.drop(['Datbloed'],axis='columns')\n",
    "# if 'DatMRI' in data:\n",
    "# \tdata = data.drop(['DatMRI'],axis='columns')\n",
    "# if 'Symp_Inf_code' in data:\n",
    "# \tdata = data.drop(['Symp_Inf_code'],axis='columns')\t\n",
    "#if 'Symp_Inf_aanw' in data:\n",
    "#\tdata = data.drop(['Symp_Inf_aanw'], axis='columns')\n",
    "#if 'PF4' in data:\n",
    "#\tdata = data.drop(['PF4'], axis='columns')\n",
    "#if 'MPO' in data:\n",
    "#\tdata = data.drop(['MPO'], axis='columns')\n",
    "#if 'fractalkine' in data:\n",
    "#\tdata = data.drop(['fractalkine'], axis='columns')\n",
    "#if 'B-TG' in data:\n",
    "#\tdata = data.drop(['B-TG'], axis='columns')"
   ]
  },
  {
   "cell_type": "code",
   "execution_count": 130,
   "id": "488b5701",
   "metadata": {},
   "outputs": [
    {
     "data": {
      "text/html": [
       "<div>\n",
       "<style scoped>\n",
       "    .dataframe tbody tr th:only-of-type {\n",
       "        vertical-align: middle;\n",
       "    }\n",
       "\n",
       "    .dataframe tbody tr th {\n",
       "        vertical-align: top;\n",
       "    }\n",
       "\n",
       "    .dataframe thead th {\n",
       "        text-align: right;\n",
       "    }\n",
       "</style>\n",
       "<table border=\"1\" class=\"dataframe\">\n",
       "  <thead>\n",
       "    <tr style=\"text-align: right;\">\n",
       "      <th></th>\n",
       "      <th>Group</th>\n",
       "      <th>geslacht</th>\n",
       "      <th>leeftijd</th>\n",
       "      <th>BMI</th>\n",
       "      <th>SBP</th>\n",
       "      <th>DBP</th>\n",
       "      <th>Coronairl</th>\n",
       "      <th>Hypertensie</th>\n",
       "      <th>DM</th>\n",
       "      <th>Hyperchol</th>\n",
       "      <th>...</th>\n",
       "      <th>WMH_PVD_ext</th>\n",
       "      <th>PVS_BG_ext</th>\n",
       "      <th>PVS_CS_ext</th>\n",
       "      <th>MB_totaal_aanw</th>\n",
       "      <th>PF4</th>\n",
       "      <th>MPO</th>\n",
       "      <th>Fractalkine</th>\n",
       "      <th>B-TG</th>\n",
       "      <th>DNA-MPO</th>\n",
       "      <th>S100A8/A9</th>\n",
       "    </tr>\n",
       "  </thead>\n",
       "  <tbody>\n",
       "    <tr>\n",
       "      <th>0</th>\n",
       "      <td>1</td>\n",
       "      <td>1</td>\n",
       "      <td>78</td>\n",
       "      <td>27.968016</td>\n",
       "      <td>147.5</td>\n",
       "      <td>83.5</td>\n",
       "      <td>0</td>\n",
       "      <td>0</td>\n",
       "      <td>0</td>\n",
       "      <td>1</td>\n",
       "      <td>...</td>\n",
       "      <td>1.0</td>\n",
       "      <td>1.0</td>\n",
       "      <td>1.0</td>\n",
       "      <td>0.0</td>\n",
       "      <td>579.617796</td>\n",
       "      <td>50.930128</td>\n",
       "      <td>0.00000</td>\n",
       "      <td>649.604336</td>\n",
       "      <td>2.603638</td>\n",
       "      <td>370.576566</td>\n",
       "    </tr>\n",
       "    <tr>\n",
       "      <th>1</th>\n",
       "      <td>1</td>\n",
       "      <td>2</td>\n",
       "      <td>65</td>\n",
       "      <td>22.656250</td>\n",
       "      <td>133.5</td>\n",
       "      <td>84.0</td>\n",
       "      <td>0</td>\n",
       "      <td>1</td>\n",
       "      <td>0</td>\n",
       "      <td>1</td>\n",
       "      <td>...</td>\n",
       "      <td>1.0</td>\n",
       "      <td>0.0</td>\n",
       "      <td>1.0</td>\n",
       "      <td>0.0</td>\n",
       "      <td>1476.815336</td>\n",
       "      <td>69.737767</td>\n",
       "      <td>0.00000</td>\n",
       "      <td>838.501862</td>\n",
       "      <td>1.700917</td>\n",
       "      <td>457.971595</td>\n",
       "    </tr>\n",
       "    <tr>\n",
       "      <th>2</th>\n",
       "      <td>1</td>\n",
       "      <td>2</td>\n",
       "      <td>55</td>\n",
       "      <td>31.202564</td>\n",
       "      <td>182.0</td>\n",
       "      <td>113.0</td>\n",
       "      <td>0</td>\n",
       "      <td>1</td>\n",
       "      <td>0</td>\n",
       "      <td>1</td>\n",
       "      <td>...</td>\n",
       "      <td>0.0</td>\n",
       "      <td>0.0</td>\n",
       "      <td>1.0</td>\n",
       "      <td>0.0</td>\n",
       "      <td>1069.126605</td>\n",
       "      <td>37.032702</td>\n",
       "      <td>0.00000</td>\n",
       "      <td>400.040008</td>\n",
       "      <td>3.225035</td>\n",
       "      <td>469.090441</td>\n",
       "    </tr>\n",
       "    <tr>\n",
       "      <th>3</th>\n",
       "      <td>1</td>\n",
       "      <td>1</td>\n",
       "      <td>46</td>\n",
       "      <td>32.824138</td>\n",
       "      <td>152.5</td>\n",
       "      <td>93.5</td>\n",
       "      <td>1</td>\n",
       "      <td>1</td>\n",
       "      <td>0</td>\n",
       "      <td>1</td>\n",
       "      <td>...</td>\n",
       "      <td>0.0</td>\n",
       "      <td>0.0</td>\n",
       "      <td>1.0</td>\n",
       "      <td>0.0</td>\n",
       "      <td>791.899402</td>\n",
       "      <td>286.256432</td>\n",
       "      <td>0.68914</td>\n",
       "      <td>795.610229</td>\n",
       "      <td>1.405755</td>\n",
       "      <td>404.603012</td>\n",
       "    </tr>\n",
       "    <tr>\n",
       "      <th>4</th>\n",
       "      <td>1</td>\n",
       "      <td>1</td>\n",
       "      <td>63</td>\n",
       "      <td>25.689562</td>\n",
       "      <td>140.0</td>\n",
       "      <td>82.5</td>\n",
       "      <td>0</td>\n",
       "      <td>0</td>\n",
       "      <td>0</td>\n",
       "      <td>1</td>\n",
       "      <td>...</td>\n",
       "      <td>0.0</td>\n",
       "      <td>0.0</td>\n",
       "      <td>1.0</td>\n",
       "      <td>0.0</td>\n",
       "      <td>563.766732</td>\n",
       "      <td>80.222767</td>\n",
       "      <td>0.00000</td>\n",
       "      <td>585.001695</td>\n",
       "      <td>2.226686</td>\n",
       "      <td>238.159000</td>\n",
       "    </tr>\n",
       "  </tbody>\n",
       "</table>\n",
       "<p>5 rows × 29 columns</p>\n",
       "</div>"
      ],
      "text/plain": [
       "   Group  geslacht  leeftijd        BMI    SBP    DBP  Coronairl  Hypertensie  \\\n",
       "0      1         1        78  27.968016  147.5   83.5          0            0   \n",
       "1      1         2        65  22.656250  133.5   84.0          0            1   \n",
       "2      1         2        55  31.202564  182.0  113.0          0            1   \n",
       "3      1         1        46  32.824138  152.5   93.5          1            1   \n",
       "4      1         1        63  25.689562  140.0   82.5          0            0   \n",
       "\n",
       "   DM  Hyperchol  ...  WMH_PVD_ext  PVS_BG_ext  PVS_CS_ext  MB_totaal_aanw  \\\n",
       "0   0          1  ...          1.0         1.0         1.0             0.0   \n",
       "1   0          1  ...          1.0         0.0         1.0             0.0   \n",
       "2   0          1  ...          0.0         0.0         1.0             0.0   \n",
       "3   0          1  ...          0.0         0.0         1.0             0.0   \n",
       "4   0          1  ...          0.0         0.0         1.0             0.0   \n",
       "\n",
       "           PF4         MPO  Fractalkine        B-TG   DNA-MPO   S100A8/A9  \n",
       "0   579.617796   50.930128      0.00000  649.604336  2.603638  370.576566  \n",
       "1  1476.815336   69.737767      0.00000  838.501862  1.700917  457.971595  \n",
       "2  1069.126605   37.032702      0.00000  400.040008  3.225035  469.090441  \n",
       "3   791.899402  286.256432      0.68914  795.610229  1.405755  404.603012  \n",
       "4   563.766732   80.222767      0.00000  585.001695  2.226686  238.159000  \n",
       "\n",
       "[5 rows x 29 columns]"
      ]
     },
     "execution_count": 130,
     "metadata": {},
     "output_type": "execute_result"
    }
   ],
   "source": [
    "data = data.dropna()\n",
    "data.head()"
   ]
  },
  {
   "cell_type": "code",
   "execution_count": 131,
   "id": "042d5923",
   "metadata": {},
   "outputs": [
    {
     "name": "stdout",
     "output_type": "stream",
     "text": [
      "1    78\n",
      "2    36\n",
      "Name: Group, dtype: int64\n"
     ]
    }
   ],
   "source": [
    "data['Group'].replace({2: 1}, inplace=True)\n",
    "data['Group'].replace({3: 2}, inplace=True)\n",
    "data.head()\n",
    "print(data['Group'].value_counts())"
   ]
  },
  {
   "cell_type": "code",
   "execution_count": 132,
   "id": "e1a47dfa",
   "metadata": {},
   "outputs": [],
   "source": [
    "from sklearn.model_selection import train_test_split\n",
    "X_train, X_test, y_train, y_test = train_test_split(data.drop(['Group'],axis='columns'),data['Group'],test_size=0.2)\n"
   ]
  },
  {
   "cell_type": "markdown",
   "id": "bf0c4f50",
   "metadata": {},
   "source": [
    "## The code below is specific for DataSet A:"
   ]
  },
  {
   "cell_type": "code",
   "execution_count": 133,
   "id": "e29e7049",
   "metadata": {},
   "outputs": [],
   "source": [
    "X_train_A = X_train.drop(['S100A8/A9', 'Old_Inf_aanw','WMH_PVD_ext', 'PVS_BG_ext', 'PVS_CS_ext', 'MB_totaal_aanw', 'PF4', 'MPO', 'Fractalkine','B-TG','DNA-MPO'], axis='columns')\n",
    "X_test_A = X_test.drop(['S100A8/A9', 'Old_Inf_aanw','WMH_PVD_ext', 'PVS_BG_ext', 'PVS_CS_ext', 'MB_totaal_aanw', 'PF4', 'MPO', 'Fractalkine','B-TG','DNA-MPO'], axis='columns')"
   ]
  },
  {
   "cell_type": "code",
   "execution_count": 134,
   "id": "25292159",
   "metadata": {},
   "outputs": [],
   "source": [
    "from sklearn.preprocessing import MinMaxScaler\n",
    "trans = MinMaxScaler()\n",
    "X_train_enc = trans.fit_transform(X_train_A)\n",
    "X_test_enc = trans.fit_transform(X_test_A)"
   ]
  },
  {
   "cell_type": "code",
   "execution_count": 135,
   "id": "db93e608",
   "metadata": {},
   "outputs": [
    {
     "name": "stdout",
     "output_type": "stream",
     "text": [
      "0.6483516483516484\n"
     ]
    }
   ],
   "source": [
    "from sklearn.ensemble import RandomForestClassifier\n",
    "model = RandomForestClassifier(n_estimators=100, oob_score = True)\n",
    "model.fit(X_train_enc, y_train)\n",
    "print(model.oob_score_)"
   ]
  },
  {
   "cell_type": "code",
   "execution_count": 136,
   "id": "72a6e93b",
   "metadata": {},
   "outputs": [
    {
     "data": {
      "text/plain": [
       "0.6521739130434783"
      ]
     },
     "execution_count": 136,
     "metadata": {},
     "output_type": "execute_result"
    }
   ],
   "source": [
    "model.score(X_test_enc,y_test)"
   ]
  },
  {
   "cell_type": "code",
   "execution_count": 137,
   "id": "adb054ab",
   "metadata": {},
   "outputs": [
    {
     "data": {
      "text/plain": [
       "array([0.01239813, 0.08134635, 0.13503033, 0.10307766, 0.07315072,\n",
       "       0.01275751, 0.0151608 , 0.00675302, 0.04569564, 0.00408292,\n",
       "       0.01175913, 0.08264085, 0.08427468, 0.01692374, 0.17403309,\n",
       "       0.06843838, 0.07247704])"
      ]
     },
     "execution_count": 137,
     "metadata": {},
     "output_type": "execute_result"
    }
   ],
   "source": [
    "model.feature_importances_"
   ]
  },
  {
   "cell_type": "code",
   "execution_count": 138,
   "id": "19def600",
   "metadata": {},
   "outputs": [],
   "source": [
    "import numpy as np"
   ]
  },
  {
   "cell_type": "code",
   "execution_count": 139,
   "id": "b4c25400",
   "metadata": {},
   "outputs": [],
   "source": [
    "features = X_train_A.columns.values\n",
    "#features = features[(features != 'Group') & (features != 'Symp_Inf_aanw')]\n",
    "features = features[(features != 'Group')]"
   ]
  },
  {
   "cell_type": "code",
   "execution_count": 140,
   "id": "3124702b",
   "metadata": {},
   "outputs": [],
   "source": [
    "import pandas as pd\n",
    "coefficients = pd.DataFrame({'Feature': features, 'Weight':model.feature_importances_}, columns=['Feature', 'Weight'])"
   ]
  },
  {
   "cell_type": "code",
   "execution_count": 141,
   "id": "d0eb292c",
   "metadata": {},
   "outputs": [
    {
     "name": "stdout",
     "output_type": "stream",
     "text": [
      "Feature LDL: 0.17403\n",
      "Feature BMI: 0.13503\n",
      "Feature SBP: 0.10308\n",
      "Feature Kreat: 0.08427\n",
      "Feature Gluc: 0.08264\n",
      "Feature leeftijd: 0.08135\n",
      "Feature DBP: 0.07315\n",
      "Feature Trigly: 0.07248\n",
      "Feature HDL: 0.06844\n",
      "Feature Hyperchol: 0.04570\n",
      "Feature MDRD: 0.01692\n",
      "Feature Hypertensie: 0.01516\n",
      "Feature Coronairl: 0.01276\n",
      "Feature geslacht: 0.01240\n",
      "Feature Roken: 0.01176\n",
      "Feature DM: 0.00675\n",
      "Feature Perifeervaat: 0.00408\n"
     ]
    }
   ],
   "source": [
    "coefficients = coefficients.sort_values('Weight', ascending = False)\n",
    "coefficients = coefficients.reset_index()\n",
    "for i in range(len(coefficients.index)):\n",
    "    print('Feature %s: %.5f' % (coefficients.at[i,'Feature'], coefficients.at[i,'Weight']))"
   ]
  },
  {
   "cell_type": "code",
   "execution_count": 142,
   "id": "fe9b337d",
   "metadata": {},
   "outputs": [
    {
     "name": "stdout",
     "output_type": "stream",
     "text": [
      "[[11  5]\n",
      " [ 3  4]]\n"
     ]
    }
   ],
   "source": [
    "# Make predictions for the test set\n",
    "y_pred_test = model.predict(X_test_enc)\n",
    "\n",
    "# Visualise classical Confusion M0atrix\n",
    "from sklearn.metrics import confusion_matrix\n",
    "CM = confusion_matrix(y_test, y_pred_test)\n",
    "print(CM)"
   ]
  },
  {
   "cell_type": "code",
   "execution_count": 143,
   "id": "4005bc4e",
   "metadata": {},
   "outputs": [
    {
     "name": "stdout",
     "output_type": "stream",
     "text": [
      "Accuracy :  0.6521739130434783\n",
      "Sensitivity :  0.6875\n",
      "Specificity :  0.5714285714285714\n"
     ]
    }
   ],
   "source": [
    "total1=sum(sum(CM))\n",
    "#####from confusion matrix calculate accuracy\n",
    "accuracy1=(CM[0,0]+CM[1,1])/total1\n",
    "print ('Accuracy : ', accuracy1)\n",
    "\n",
    "sensitivity1 = CM[0,0]/(CM[0,0]+CM[0,1])\n",
    "print('Sensitivity : ', sensitivity1 )\n",
    "\n",
    "specificity1 = CM[1,1]/(CM[1,0]+CM[1,1])\n",
    "print('Specificity : ', specificity1)"
   ]
  },
  {
   "cell_type": "code",
   "execution_count": 144,
   "id": "f18fc5ea",
   "metadata": {},
   "outputs": [
    {
     "data": {
      "image/png": "[encoded data removed]",
      "text/plain": [
       "<Figure size 432x288 with 1 Axes>"
      ]
     },
     "metadata": {
      "needs_background": "light"
     },
     "output_type": "display_data"
    }
   ],
   "source": [
    "import matplotlib.pyplot as plt\n",
    "# Visualize it as a heatmap\n",
    "# Plot confusion matrix\n",
    "plt.imshow(CM,interpolation='none',cmap='Blues')\n",
    "for (i, j), z in np.ndenumerate(CM):\n",
    "    plt.text(j, i, z, ha='center', va='center')\n",
    "plt.xlabel(\"RandomForest label\")\n",
    "plt.ylabel(\"truth label\")\n",
    "plt.show()"
   ]
  },
  {
   "cell_type": "markdown",
   "id": "e890af95",
   "metadata": {},
   "source": [
    "## The code below is specific for DataSet B:"
   ]
  },
  {
   "cell_type": "code",
   "execution_count": 145,
   "id": "a4069266",
   "metadata": {},
   "outputs": [],
   "source": [
    "X_train_B = X_train.drop(['S100A8/A9', 'PF4', 'MPO', 'Fractalkine','B-TG','DNA-MPO'], axis='columns')\n",
    "X_test_B = X_test.drop(['S100A8/A9', 'PF4', 'MPO', 'Fractalkine','B-TG','DNA-MPO'], axis='columns')"
   ]
  },
  {
   "cell_type": "code",
   "execution_count": 146,
   "id": "47682802",
   "metadata": {},
   "outputs": [
    {
     "name": "stdout",
     "output_type": "stream",
     "text": [
      "[[0.         0.7826087  0.57574857 ... 1.         1.         0.        ]\n",
      " [0.         0.84782609 0.89269582 ... 1.         0.         0.        ]\n",
      " [0.         0.54347826 0.41570397 ... 0.         0.         0.        ]\n",
      " ...\n",
      " [1.         0.13043478 0.76800564 ... 1.         1.         1.        ]\n",
      " [0.         0.80434783 0.55141342 ... 0.         1.         0.        ]\n",
      " [1.         0.7826087  0.43012253 ... 1.         1.         0.        ]]\n"
     ]
    }
   ],
   "source": [
    "from sklearn.preprocessing import MinMaxScaler\n",
    "trans = MinMaxScaler()\n",
    "X_train_enc = trans.fit_transform(X_train_B)\n",
    "X_test_enc = trans.fit_transform(X_test_B)\n",
    "print(X_train_enc)"
   ]
  },
  {
   "cell_type": "code",
   "execution_count": 147,
   "id": "2ff84c14",
   "metadata": {},
   "outputs": [
    {
     "data": {
      "text/plain": [
       "RandomForestClassifier(oob_score=True)"
      ]
     },
     "execution_count": 147,
     "metadata": {},
     "output_type": "execute_result"
    }
   ],
   "source": [
    "from sklearn.ensemble import RandomForestClassifier\n",
    "model = RandomForestClassifier(n_estimators=100, oob_score = True)\n",
    "model.fit(X_train_enc, y_train)"
   ]
  },
  {
   "cell_type": "code",
   "execution_count": 148,
   "id": "3edb6951",
   "metadata": {},
   "outputs": [
    {
     "name": "stdout",
     "output_type": "stream",
     "text": [
      "0.8241758241758241\n"
     ]
    }
   ],
   "source": [
    "print(model.oob_score_)"
   ]
  },
  {
   "cell_type": "code",
   "execution_count": 149,
   "id": "1f9cc929",
   "metadata": {},
   "outputs": [
    {
     "data": {
      "text/plain": [
       "0.7391304347826086"
      ]
     },
     "execution_count": 149,
     "metadata": {},
     "output_type": "execute_result"
    }
   ],
   "source": [
    "model.score(X_test_enc,y_test)"
   ]
  },
  {
   "cell_type": "code",
   "execution_count": 150,
   "id": "6545edbc",
   "metadata": {},
   "outputs": [
    {
     "name": "stdout",
     "output_type": "stream",
     "text": [
      "Feature LDL: 0.11137\n",
      "Feature BMI: 0.10546\n",
      "Feature WMH_PVD_ext: 0.08986\n",
      "Feature SBP: 0.07418\n",
      "Feature Old_Inf_aanw: 0.07321\n",
      "Feature Kreat: 0.07068\n",
      "Feature Trigly: 0.06843\n",
      "Feature DBP: 0.06772\n",
      "Feature PVS_BG_ext: 0.06177\n",
      "Feature leeftijd: 0.06109\n",
      "Feature Gluc: 0.05818\n",
      "Feature HDL: 0.04256\n",
      "Feature Hyperchol: 0.03313\n",
      "Feature Roken: 0.01512\n",
      "Feature Hypertensie: 0.01425\n",
      "Feature MDRD: 0.01287\n",
      "Feature PVS_CS_ext: 0.01051\n",
      "Feature geslacht: 0.00948\n",
      "Feature MB_totaal_aanw: 0.00799\n",
      "Feature DM: 0.00661\n",
      "Feature Coronairl: 0.00421\n",
      "Feature Perifeervaat: 0.00130\n"
     ]
    }
   ],
   "source": [
    "features = X_train_B.columns.values\n",
    "features = features[(features != 'Group')]\n",
    "coefficients = pd.DataFrame({'Feature': features, 'Weight':model.feature_importances_}, columns=['Feature', 'Weight'])\n",
    "coefficients = coefficients.sort_values('Weight', ascending = False)\n",
    "coefficients = coefficients.reset_index()\n",
    "for i in range(len(coefficients.index)):\n",
    "    print('Feature %s: %.5f' % (coefficients.at[i,'Feature'], coefficients.at[i,'Weight']))"
   ]
  },
  {
   "cell_type": "code",
   "execution_count": 151,
   "id": "994148e8",
   "metadata": {},
   "outputs": [
    {
     "data": {
      "image/png": "[encoded data removed]",
      "text/plain": [
       "<Figure size 432x288 with 1 Axes>"
      ]
     },
     "metadata": {
      "needs_background": "light"
     },
     "output_type": "display_data"
    }
   ],
   "source": [
    "y_pred_test = model.predict(X_test_enc)\n",
    "\n",
    "CM = confusion_matrix(y_test, y_pred_test)\n",
    "\n",
    "plt.imshow(CM,interpolation='none',cmap='Blues')\n",
    "for (i, j), z in np.ndenumerate(CM):\n",
    "    plt.text(j, i, z, ha='center', va='center')\n",
    "plt.xlabel(\"RandomForest label\")\n",
    "plt.ylabel(\"truth label\")\n",
    "plt.show()"
   ]
  },
  {
   "cell_type": "code",
   "execution_count": 152,
   "id": "76ba3d37",
   "metadata": {},
   "outputs": [
    {
     "name": "stdout",
     "output_type": "stream",
     "text": [
      "Accuracy :  0.7391304347826086\n",
      "Sensitivity :  0.9375\n",
      "Specificity :  0.2857142857142857\n"
     ]
    }
   ],
   "source": [
    "total1=sum(sum(CM))\n",
    "#####from confusion matrix calculate accuracy\n",
    "accuracy1=(CM[0,0]+CM[1,1])/total1\n",
    "print ('Accuracy : ', accuracy1)\n",
    "\n",
    "sensitivity1 = CM[0,0]/(CM[0,0]+CM[0,1])\n",
    "print('Sensitivity : ', sensitivity1 )\n",
    "\n",
    "specificity1 = CM[1,1]/(CM[1,0]+CM[1,1])\n",
    "print('Specificity : ', specificity1)"
   ]
  },
  {
   "cell_type": "markdown",
   "id": "ec26eb92",
   "metadata": {},
   "source": [
    "## The code below is specific for DataSet C:"
   ]
  },
  {
   "cell_type": "code",
   "execution_count": 153,
   "id": "f722528c",
   "metadata": {},
   "outputs": [],
   "source": [
    "X_train_C = X_train.drop(['Old_Inf_aanw','WMH_PVD_ext', 'PVS_BG_ext', 'PVS_CS_ext', 'MB_totaal_aanw'], axis='columns')\n",
    "X_test_C = X_test.drop(['Old_Inf_aanw','WMH_PVD_ext', 'PVS_BG_ext', 'PVS_CS_ext', 'MB_totaal_aanw'], axis='columns')"
   ]
  },
  {
   "cell_type": "code",
   "execution_count": 154,
   "id": "c4ef0306",
   "metadata": {},
   "outputs": [
    {
     "name": "stdout",
     "output_type": "stream",
     "text": [
      "[[0.         0.7826087  0.57574857 ... 0.31078529 0.08948166 0.4861566 ]\n",
      " [0.         0.84782609 0.89269582 ... 0.39075462 0.40951645 0.83207596]\n",
      " [0.         0.54347826 0.41570397 ... 0.28235621 0.19861668 0.13303993]\n",
      " ...\n",
      " [1.         0.13043478 0.76800564 ... 0.39239561 0.07615334 0.22310331]\n",
      " [0.         0.80434783 0.55141342 ... 0.31845119 0.06208897 0.24639649]\n",
      " [1.         0.7826087  0.43012253 ... 0.40109699 0.04559698 0.38271405]]\n"
     ]
    }
   ],
   "source": [
    "from sklearn.preprocessing import MinMaxScaler\n",
    "trans = MinMaxScaler()\n",
    "X_train_enc = trans.fit_transform(X_train_C)\n",
    "X_test_enc = trans.fit_transform(X_test_C)\n",
    "print(X_train_enc)"
   ]
  },
  {
   "cell_type": "code",
   "execution_count": 155,
   "id": "04912e9d",
   "metadata": {},
   "outputs": [
    {
     "data": {
      "text/plain": [
       "RandomForestClassifier(oob_score=True)"
      ]
     },
     "execution_count": 155,
     "metadata": {},
     "output_type": "execute_result"
    }
   ],
   "source": [
    "from sklearn.ensemble import RandomForestClassifier\n",
    "model = RandomForestClassifier(n_estimators=100, oob_score = True)\n",
    "model.fit(X_train_enc, y_train)"
   ]
  },
  {
   "cell_type": "code",
   "execution_count": 156,
   "id": "b77fa4fa",
   "metadata": {},
   "outputs": [
    {
     "name": "stdout",
     "output_type": "stream",
     "text": [
      "0.6813186813186813\n"
     ]
    }
   ],
   "source": [
    "print(model.oob_score_)"
   ]
  },
  {
   "cell_type": "code",
   "execution_count": 157,
   "id": "bb20e7b0",
   "metadata": {},
   "outputs": [
    {
     "data": {
      "text/plain": [
       "0.6956521739130435"
      ]
     },
     "execution_count": 157,
     "metadata": {},
     "output_type": "execute_result"
    }
   ],
   "source": [
    "model.score(X_test_enc,y_test)"
   ]
  },
  {
   "cell_type": "code",
   "execution_count": 158,
   "id": "5c111b93",
   "metadata": {},
   "outputs": [
    {
     "name": "stdout",
     "output_type": "stream",
     "text": [
      "Feature LDL: 0.09421\n",
      "Feature MPO: 0.08684\n",
      "Feature BMI: 0.07888\n",
      "Feature SBP: 0.07706\n",
      "Feature Kreat: 0.06446\n",
      "Feature DBP: 0.06222\n",
      "Feature leeftijd: 0.05623\n",
      "Feature DNA-MPO: 0.05585\n",
      "Feature S100A8/A9: 0.05490\n",
      "Feature PF4: 0.05386\n",
      "Feature Trigly: 0.05133\n",
      "Feature Gluc: 0.04973\n",
      "Feature HDL: 0.04882\n",
      "Feature B-TG: 0.03951\n",
      "Feature Hyperchol: 0.03695\n",
      "Feature Fractalkine: 0.03209\n",
      "Feature Hypertensie: 0.01664\n",
      "Feature MDRD: 0.01215\n",
      "Feature Roken: 0.01032\n",
      "Feature Coronairl: 0.00669\n",
      "Feature geslacht: 0.00511\n",
      "Feature DM: 0.00443\n",
      "Feature Perifeervaat: 0.00173\n"
     ]
    }
   ],
   "source": [
    "features = X_train_C.columns.values\n",
    "features = features[(features != 'Group')]\n",
    "coefficients = pd.DataFrame({'Feature': features, 'Weight':model.feature_importances_}, columns=['Feature', 'Weight'])\n",
    "coefficients = coefficients.sort_values('Weight', ascending = False)\n",
    "coefficients = coefficients.reset_index()\n",
    "for i in range(len(coefficients.index)):\n",
    "    print('Feature %s: %.5f' % (coefficients.at[i,'Feature'], coefficients.at[i,'Weight']))"
   ]
  },
  {
   "cell_type": "code",
   "execution_count": 159,
   "id": "6be27336",
   "metadata": {},
   "outputs": [
    {
     "data": {
      "image/png": "[encoded data removed]",
      "text/plain": [
       "<Figure size 432x288 with 1 Axes>"
      ]
     },
     "metadata": {
      "needs_background": "light"
     },
     "output_type": "display_data"
    }
   ],
   "source": [
    "y_pred_test = model.predict(X_test_enc)\n",
    "\n",
    "CM = confusion_matrix(y_test, y_pred_test)\n",
    "\n",
    "plt.imshow(CM,interpolation='none',cmap='Blues')\n",
    "for (i, j), z in np.ndenumerate(CM):\n",
    "    plt.text(j, i, z, ha='center', va='center')\n",
    "plt.xlabel(\"RandomForest label\")\n",
    "plt.ylabel(\"truth label\")\n",
    "plt.show()"
   ]
  },
  {
   "cell_type": "code",
   "execution_count": 160,
   "id": "6fdfcd21",
   "metadata": {},
   "outputs": [
    {
     "name": "stdout",
     "output_type": "stream",
     "text": [
      "Accuracy :  0.6956521739130435\n",
      "Sensitivity :  0.875\n",
      "Specificity :  0.2857142857142857\n"
     ]
    }
   ],
   "source": [
    "total1=sum(sum(CM))\n",
    "#####from confusion matrix calculate accuracy\n",
    "accuracy1=(CM[0,0]+CM[1,1])/total1\n",
    "print ('Accuracy : ', accuracy1)\n",
    "\n",
    "sensitivity1 = CM[0,0]/(CM[0,0]+CM[0,1])\n",
    "print('Sensitivity : ', sensitivity1 )\n",
    "\n",
    "specificity1 = CM[1,1]/(CM[1,0]+CM[1,1])\n",
    "print('Specificity : ', specificity1)"
   ]
  },
  {
   "cell_type": "markdown",
   "id": "01f75db3",
   "metadata": {},
   "source": [
    "## The code below is specific for DataSet D:"
   ]
  },
  {
   "cell_type": "code",
   "execution_count": 161,
   "id": "4f20b3ce",
   "metadata": {},
   "outputs": [
    {
     "name": "stdout",
     "output_type": "stream",
     "text": [
      "[[0.         0.7826087  0.57574857 ... 0.31078529 0.08948166 0.4861566 ]\n",
      " [0.         0.84782609 0.89269582 ... 0.39075462 0.40951645 0.83207596]\n",
      " [0.         0.54347826 0.41570397 ... 0.28235621 0.19861668 0.13303993]\n",
      " ...\n",
      " [1.         0.13043478 0.76800564 ... 0.39239561 0.07615334 0.22310331]\n",
      " [0.         0.80434783 0.55141342 ... 0.31845119 0.06208897 0.24639649]\n",
      " [1.         0.7826087  0.43012253 ... 0.40109699 0.04559698 0.38271405]]\n"
     ]
    }
   ],
   "source": [
    "from sklearn.preprocessing import MinMaxScaler\n",
    "trans = MinMaxScaler()\n",
    "X_train_enc = trans.fit_transform(X_train)\n",
    "X_test_enc = trans.fit_transform(X_test)\n",
    "print(X_train_enc)"
   ]
  },
  {
   "cell_type": "code",
   "execution_count": 162,
   "id": "e4c0bbd7",
   "metadata": {},
   "outputs": [
    {
     "data": {
      "text/plain": [
       "RandomForestClassifier(oob_score=True)"
      ]
     },
     "execution_count": 162,
     "metadata": {},
     "output_type": "execute_result"
    }
   ],
   "source": [
    "from sklearn.ensemble import RandomForestClassifier\n",
    "model = RandomForestClassifier(n_estimators=100, oob_score = True)\n",
    "model.fit(X_train_enc, y_train)"
   ]
  },
  {
   "cell_type": "code",
   "execution_count": 163,
   "id": "0ddab12d",
   "metadata": {},
   "outputs": [
    {
     "name": "stdout",
     "output_type": "stream",
     "text": [
      "0.7582417582417582\n"
     ]
    }
   ],
   "source": [
    "print(model.oob_score_)"
   ]
  },
  {
   "cell_type": "code",
   "execution_count": 164,
   "id": "211e2dd8",
   "metadata": {},
   "outputs": [
    {
     "data": {
      "text/plain": [
       "0.782608695652174"
      ]
     },
     "execution_count": 164,
     "metadata": {},
     "output_type": "execute_result"
    }
   ],
   "source": [
    "model.score(X_test_enc,y_test)"
   ]
  },
  {
   "cell_type": "code",
   "execution_count": 165,
   "id": "6006d9a5",
   "metadata": {},
   "outputs": [
    {
     "name": "stdout",
     "output_type": "stream",
     "text": [
      "Feature MPO: 0.08974\n",
      "Feature LDL: 0.08087\n",
      "Feature WMH_PVD_ext: 0.07190\n",
      "Feature Old_Inf_aanw: 0.07035\n",
      "Feature PVS_BG_ext: 0.06715\n",
      "Feature BMI: 0.06546\n",
      "Feature DBP: 0.06037\n",
      "Feature DNA-MPO: 0.05166\n",
      "Feature SBP: 0.04900\n",
      "Feature Gluc: 0.04498\n",
      "Feature Trigly: 0.04368\n",
      "Feature PF4: 0.03882\n",
      "Feature Kreat: 0.03822\n",
      "Feature leeftijd: 0.03632\n",
      "Feature B-TG: 0.03422\n",
      "Feature S100A8/A9: 0.03370\n",
      "Feature HDL: 0.03168\n",
      "Feature Fractalkine: 0.02427\n",
      "Feature Hyperchol: 0.01676\n",
      "Feature Hypertensie: 0.01266\n",
      "Feature MDRD: 0.00875\n",
      "Feature PVS_CS_ext: 0.00767\n",
      "Feature Roken: 0.00495\n",
      "Feature Coronairl: 0.00475\n",
      "Feature Perifeervaat: 0.00460\n",
      "Feature geslacht: 0.00285\n",
      "Feature DM: 0.00260\n",
      "Feature MB_totaal_aanw: 0.00201\n"
     ]
    }
   ],
   "source": [
    "features = X_train.columns.values\n",
    "features = features[(features != 'Group')]\n",
    "coefficients = pd.DataFrame({'Feature': features, 'Weight':model.feature_importances_}, columns=['Feature', 'Weight'])\n",
    "coefficients = coefficients.sort_values('Weight', ascending = False)\n",
    "coefficients = coefficients.reset_index()\n",
    "for i in range(len(coefficients.index)):\n",
    "    print('Feature %s: %.5f' % (coefficients.at[i,'Feature'], coefficients.at[i,'Weight']))"
   ]
  },
  {
   "cell_type": "code",
   "execution_count": 166,
   "id": "cf0af062",
   "metadata": {},
   "outputs": [
    {
     "data": {
      "image/png": "[encoded data removed]",
      "text/plain": [
       "<Figure size 432x288 with 1 Axes>"
      ]
     },
     "metadata": {
      "needs_background": "light"
     },
     "output_type": "display_data"
    }
   ],
   "source": [
    "y_pred_test = model.predict(X_test_enc)\n",
    "\n",
    "CM = confusion_matrix(y_test, y_pred_test)\n",
    "\n",
    "plt.imshow(CM,interpolation='none',cmap='Blues')\n",
    "for (i, j), z in np.ndenumerate(CM):\n",
    "    plt.text(j, i, z, ha='center', va='center')\n",
    "plt.xlabel(\"RandomForest label\")\n",
    "plt.ylabel(\"truth label\")\n",
    "plt.show()"
   ]
  },
  {
   "cell_type": "code",
   "execution_count": 167,
   "id": "b90f832b",
   "metadata": {},
   "outputs": [
    {
     "name": "stdout",
     "output_type": "stream",
     "text": [
      "Accuracy :  0.782608695652174\n",
      "Sensitivity :  1.0\n",
      "Specificity :  0.2857142857142857\n"
     ]
    }
   ],
   "source": [
    "total1=sum(sum(CM))\n",
    "#####from confusion matrix calculate accuracy\n",
    "accuracy1=(CM[0,0]+CM[1,1])/total1\n",
    "print ('Accuracy : ', accuracy1)\n",
    "\n",
    "sensitivity1 = CM[0,0]/(CM[0,0]+CM[0,1])\n",
    "print('Sensitivity : ', sensitivity1 )\n",
    "\n",
    "specificity1 = CM[1,1]/(CM[1,0]+CM[1,1])\n",
    "print('Specificity : ', specificity1)"
   ]
  },
  {
   "cell_type": "code",
   "execution_count": null,
   "id": "77e846d9",
   "metadata": {},
   "outputs": [],
   "source": []
  },
  {
   "cell_type": "code",
   "execution_count": null,
   "id": "b274b8f1",
   "metadata": {},
   "outputs": [],
   "source": []
  }
 ],
 "metadata": {
  "kernelspec": {
   "display_name": "Python 3",
   "language": "python",
   "name": "python3"
  },
  "language_info": {
   "codemirror_mode": {
    "name": "ipython",
    "version": 3
   },
   "file_extension": ".py",
   "mimetype": "text/x-python",
   "name": "python",
   "nbconvert_exporter": "python",
   "pygments_lexer": "ipython3",
   "version": "3.9.4"
  }
 },
 "nbformat": 4,
 "nbformat_minor": 5
}
