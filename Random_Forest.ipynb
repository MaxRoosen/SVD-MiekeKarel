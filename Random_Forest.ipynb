{
 "cells": [
  {
   "cell_type": "code",
   "execution_count": 1,
   "id": "08559b10",
   "metadata": {},
   "outputs": [],
   "source": [
    "import pandas as pd\n",
    "from sklearn.datasets import load_digits\n",
    "digits = load_digits()"
   ]
  },
  {
   "cell_type": "code",
   "execution_count": 2,
   "id": "189572a6",
   "metadata": {},
   "outputs": [],
   "source": [
    "from pandas import read_csv\n",
    "data = read_csv('Dataset_7.1.csv', header=0, delimiter=';')"
   ]
  },
  {
   "cell_type": "code",
   "execution_count": 3,
   "id": "46209705",
   "metadata": {},
   "outputs": [],
   "source": [
    "if 'ppnnr' in data:\n",
    "\tdata = data.drop(['ppnnr'], axis='columns')\n",
    "# if 'DatInfo' in data:\n",
    "# \tdata = data.drop(['DatInfo'],axis='columns')\n",
    "# if 'Datbloed' in data:\n",
    "# \tdata = data.drop(['Datbloed'],axis='columns')\n",
    "# if 'DatMRI' in data:\n",
    "# \tdata = data.drop(['DatMRI'],axis='columns')\n",
    "# if 'Symp_Inf_code' in data:\n",
    "# \tdata = data.drop(['Symp_Inf_code'],axis='columns')\t\n",
    "#if 'Symp_Inf_aanw' in data:\n",
    "#\tdata = data.drop(['Symp_Inf_aanw'], axis='columns')\n",
    "#if 'PF4' in data:\n",
    "#\tdata = data.drop(['PF4'], axis='columns')\n",
    "#if 'MPO' in data:\n",
    "#\tdata = data.drop(['MPO'], axis='columns')\n",
    "#if 'fractalkine' in data:\n",
    "#\tdata = data.drop(['fractalkine'], axis='columns')\n",
    "#if 'B-TG' in data:\n",
    "#\tdata = data.drop(['B-TG'], axis='columns')"
   ]
  },
  {
   "cell_type": "code",
   "execution_count": 4,
   "id": "488b5701",
   "metadata": {},
   "outputs": [
    {
     "data": {
      "text/html": [
       "<div>\n",
       "<style scoped>\n",
       "    .dataframe tbody tr th:only-of-type {\n",
       "        vertical-align: middle;\n",
       "    }\n",
       "\n",
       "    .dataframe tbody tr th {\n",
       "        vertical-align: top;\n",
       "    }\n",
       "\n",
       "    .dataframe thead th {\n",
       "        text-align: right;\n",
       "    }\n",
       "</style>\n",
       "<table border=\"1\" class=\"dataframe\">\n",
       "  <thead>\n",
       "    <tr style=\"text-align: right;\">\n",
       "      <th></th>\n",
       "      <th>Group</th>\n",
       "      <th>geslacht</th>\n",
       "      <th>leeftijd</th>\n",
       "      <th>BMI</th>\n",
       "      <th>SBP</th>\n",
       "      <th>DBP</th>\n",
       "      <th>Hypertensie</th>\n",
       "      <th>DM</th>\n",
       "      <th>Hyperchol</th>\n",
       "      <th>Statine</th>\n",
       "      <th>...</th>\n",
       "      <th>MDRD</th>\n",
       "      <th>LDL</th>\n",
       "      <th>HDL</th>\n",
       "      <th>Trigly</th>\n",
       "      <th>Symp_Inf_aanw</th>\n",
       "      <th>Old_Inf_aanw</th>\n",
       "      <th>WMH_PVD_ext</th>\n",
       "      <th>PVS_BG_ext</th>\n",
       "      <th>PVS_CS_ext</th>\n",
       "      <th>MB_totaal_aanw</th>\n",
       "    </tr>\n",
       "  </thead>\n",
       "  <tbody>\n",
       "    <tr>\n",
       "      <th>0</th>\n",
       "      <td>1</td>\n",
       "      <td>1</td>\n",
       "      <td>78</td>\n",
       "      <td>27.968016</td>\n",
       "      <td>147.5</td>\n",
       "      <td>83.5</td>\n",
       "      <td>0</td>\n",
       "      <td>0</td>\n",
       "      <td>1</td>\n",
       "      <td>1</td>\n",
       "      <td>...</td>\n",
       "      <td>0</td>\n",
       "      <td>1.9</td>\n",
       "      <td>1.2</td>\n",
       "      <td>1.95</td>\n",
       "      <td>1.0</td>\n",
       "      <td>1.0</td>\n",
       "      <td>1.0</td>\n",
       "      <td>1.0</td>\n",
       "      <td>1.0</td>\n",
       "      <td>0.0</td>\n",
       "    </tr>\n",
       "    <tr>\n",
       "      <th>1</th>\n",
       "      <td>1</td>\n",
       "      <td>2</td>\n",
       "      <td>65</td>\n",
       "      <td>22.656250</td>\n",
       "      <td>133.5</td>\n",
       "      <td>84.0</td>\n",
       "      <td>1</td>\n",
       "      <td>0</td>\n",
       "      <td>1</td>\n",
       "      <td>1</td>\n",
       "      <td>...</td>\n",
       "      <td>0</td>\n",
       "      <td>3.5</td>\n",
       "      <td>2.0</td>\n",
       "      <td>1.31</td>\n",
       "      <td>0.0</td>\n",
       "      <td>0.0</td>\n",
       "      <td>1.0</td>\n",
       "      <td>0.0</td>\n",
       "      <td>1.0</td>\n",
       "      <td>0.0</td>\n",
       "    </tr>\n",
       "    <tr>\n",
       "      <th>2</th>\n",
       "      <td>1</td>\n",
       "      <td>2</td>\n",
       "      <td>55</td>\n",
       "      <td>31.202564</td>\n",
       "      <td>182.0</td>\n",
       "      <td>113.0</td>\n",
       "      <td>1</td>\n",
       "      <td>0</td>\n",
       "      <td>1</td>\n",
       "      <td>1</td>\n",
       "      <td>...</td>\n",
       "      <td>0</td>\n",
       "      <td>1.9</td>\n",
       "      <td>1.8</td>\n",
       "      <td>2.03</td>\n",
       "      <td>1.0</td>\n",
       "      <td>0.0</td>\n",
       "      <td>0.0</td>\n",
       "      <td>0.0</td>\n",
       "      <td>1.0</td>\n",
       "      <td>0.0</td>\n",
       "    </tr>\n",
       "    <tr>\n",
       "      <th>3</th>\n",
       "      <td>1</td>\n",
       "      <td>1</td>\n",
       "      <td>46</td>\n",
       "      <td>32.824138</td>\n",
       "      <td>152.5</td>\n",
       "      <td>93.5</td>\n",
       "      <td>1</td>\n",
       "      <td>0</td>\n",
       "      <td>1</td>\n",
       "      <td>1</td>\n",
       "      <td>...</td>\n",
       "      <td>0</td>\n",
       "      <td>2.2</td>\n",
       "      <td>0.9</td>\n",
       "      <td>3.58</td>\n",
       "      <td>1.0</td>\n",
       "      <td>0.0</td>\n",
       "      <td>0.0</td>\n",
       "      <td>0.0</td>\n",
       "      <td>1.0</td>\n",
       "      <td>0.0</td>\n",
       "    </tr>\n",
       "    <tr>\n",
       "      <th>4</th>\n",
       "      <td>1</td>\n",
       "      <td>1</td>\n",
       "      <td>63</td>\n",
       "      <td>25.689562</td>\n",
       "      <td>140.0</td>\n",
       "      <td>82.5</td>\n",
       "      <td>0</td>\n",
       "      <td>0</td>\n",
       "      <td>1</td>\n",
       "      <td>1</td>\n",
       "      <td>...</td>\n",
       "      <td>0</td>\n",
       "      <td>1.9</td>\n",
       "      <td>1.7</td>\n",
       "      <td>0.93</td>\n",
       "      <td>0.0</td>\n",
       "      <td>1.0</td>\n",
       "      <td>0.0</td>\n",
       "      <td>0.0</td>\n",
       "      <td>1.0</td>\n",
       "      <td>0.0</td>\n",
       "    </tr>\n",
       "  </tbody>\n",
       "</table>\n",
       "<p>5 rows × 24 columns</p>\n",
       "</div>"
      ],
      "text/plain": [
       "   Group  geslacht  leeftijd        BMI    SBP    DBP  Hypertensie  DM  \\\n",
       "0      1         1        78  27.968016  147.5   83.5            0   0   \n",
       "1      1         2        65  22.656250  133.5   84.0            1   0   \n",
       "2      1         2        55  31.202564  182.0  113.0            1   0   \n",
       "3      1         1        46  32.824138  152.5   93.5            1   0   \n",
       "4      1         1        63  25.689562  140.0   82.5            0   0   \n",
       "\n",
       "   Hyperchol  Statine  ...  MDRD  LDL  HDL  Trigly  Symp_Inf_aanw  \\\n",
       "0          1        1  ...     0  1.9  1.2    1.95            1.0   \n",
       "1          1        1  ...     0  3.5  2.0    1.31            0.0   \n",
       "2          1        1  ...     0  1.9  1.8    2.03            1.0   \n",
       "3          1        1  ...     0  2.2  0.9    3.58            1.0   \n",
       "4          1        1  ...     0  1.9  1.7    0.93            0.0   \n",
       "\n",
       "   Old_Inf_aanw  WMH_PVD_ext  PVS_BG_ext  PVS_CS_ext  MB_totaal_aanw  \n",
       "0           1.0          1.0         1.0         1.0             0.0  \n",
       "1           0.0          1.0         0.0         1.0             0.0  \n",
       "2           0.0          0.0         0.0         1.0             0.0  \n",
       "3           0.0          0.0         0.0         1.0             0.0  \n",
       "4           1.0          0.0         0.0         1.0             0.0  \n",
       "\n",
       "[5 rows x 24 columns]"
      ]
     },
     "execution_count": 4,
     "metadata": {},
     "output_type": "execute_result"
    }
   ],
   "source": [
    "data = data.dropna()\n",
    "data.head()"
   ]
  },
  {
   "cell_type": "code",
   "execution_count": 5,
   "id": "042d5923",
   "metadata": {},
   "outputs": [
    {
     "name": "stdout",
     "output_type": "stream",
     "text": [
      "1    78\n",
      "2    38\n",
      "Name: Group, dtype: int64\n"
     ]
    }
   ],
   "source": [
    "data['Group'].replace({2: 1}, inplace=True)\n",
    "data['Group'].replace({3: 2}, inplace=True)\n",
    "data.head()\n",
    "print(data['Group'].value_counts())"
   ]
  },
  {
   "cell_type": "code",
   "execution_count": 6,
   "id": "e1a47dfa",
   "metadata": {},
   "outputs": [],
   "source": [
    "from sklearn.model_selection import train_test_split\n",
    "X_train, X_test, y_train, y_test = train_test_split(data.drop(['Group'],axis='columns'),data['Group'],test_size=0.2)"
   ]
  },
  {
   "cell_type": "code",
   "execution_count": 16,
   "id": "8e3a9d49",
   "metadata": {},
   "outputs": [],
   "source": [
    "from sklearn.preprocessing import MinMaxScaler\n",
    "trans = MinMaxScaler()\n",
    "X_train_enc = trans.fit_transform(X_train)\n",
    "X_test_enc = trans.fit_transform(X_test)"
   ]
  },
  {
   "cell_type": "code",
   "execution_count": 25,
   "id": "db93e608",
   "metadata": {},
   "outputs": [
    {
     "data": {
      "text/plain": [
       "RandomForestClassifier(n_estimators=20, oob_score=True)"
      ]
     },
     "execution_count": 25,
     "metadata": {},
     "output_type": "execute_result"
    }
   ],
   "source": [
    "from sklearn.ensemble import RandomForestClassifier\n",
    "model = RandomForestClassifier(n_estimators=20, oob_score = True)\n",
    "model.fit(X_train_enc, y_train)"
   ]
  },
  {
   "cell_type": "code",
   "execution_count": 26,
   "id": "4aaf275a",
   "metadata": {},
   "outputs": [
    {
     "name": "stdout",
     "output_type": "stream",
     "text": [
      "0.7608695652173914\n"
     ]
    }
   ],
   "source": [
    "print(model.oob_score_)"
   ]
  },
  {
   "cell_type": "code",
   "execution_count": 27,
   "id": "72a6e93b",
   "metadata": {},
   "outputs": [
    {
     "data": {
      "text/plain": [
       "0.7083333333333334"
      ]
     },
     "execution_count": 27,
     "metadata": {},
     "output_type": "execute_result"
    }
   ],
   "source": [
    "model.score(X_test_enc, y_test)"
   ]
  },
  {
   "cell_type": "code",
   "execution_count": 28,
   "id": "adb054ab",
   "metadata": {},
   "outputs": [
    {
     "data": {
      "text/plain": [
       "array([0.0076858 , 0.04563094, 0.09188709, 0.05531254, 0.06919196,\n",
       "       0.01723438, 0.00128348, 0.01298264, 0.02844455, 0.        ,\n",
       "       0.02000663, 0.06660558, 0.07353244, 0.02288933, 0.07309343,\n",
       "       0.06402294, 0.06548593, 0.05936147, 0.03326143, 0.15150547,\n",
       "       0.02572701, 0.0113442 , 0.00351075])"
      ]
     },
     "execution_count": 28,
     "metadata": {},
     "output_type": "execute_result"
    }
   ],
   "source": [
    "model.feature_importances_"
   ]
  },
  {
   "cell_type": "code",
   "execution_count": 29,
   "id": "19def600",
   "metadata": {},
   "outputs": [],
   "source": [
    "import numpy as np"
   ]
  },
  {
   "cell_type": "code",
   "execution_count": 30,
   "id": "b4c25400",
   "metadata": {},
   "outputs": [
    {
     "data": {
      "text/plain": [
       "array(['geslacht', 'leeftijd', 'BMI', 'SBP', 'DBP', 'Hypertensie', 'DM',\n",
       "       'Hyperchol', 'Statine', 'Perifeervaat', 'Roken', 'Gluc', 'Kreat',\n",
       "       'MDRD', 'LDL', 'HDL', 'Trigly', 'Symp_Inf_aanw', 'Old_Inf_aanw',\n",
       "       'WMH_PVD_ext', 'PVS_BG_ext', 'PVS_CS_ext', 'MB_totaal_aanw'],\n",
       "      dtype=object)"
      ]
     },
     "execution_count": 30,
     "metadata": {},
     "output_type": "execute_result"
    }
   ],
   "source": [
    "features = data.columns.values\n",
    "#features = features[(features != 'Group') & (features != 'Symp_Inf_aanw')]\n",
    "features = features[(features != 'Group')]\n",
    "features"
   ]
  },
  {
   "cell_type": "code",
   "execution_count": 31,
   "id": "3124702b",
   "metadata": {},
   "outputs": [],
   "source": [
    "import pandas as pd\n",
    "coefficients = pd.DataFrame({'Feature': features, 'Weight':model.feature_importances_}, columns=['Feature', 'Weight'])"
   ]
  },
  {
   "cell_type": "code",
   "execution_count": 32,
   "id": "d0eb292c",
   "metadata": {},
   "outputs": [
    {
     "name": "stdout",
     "output_type": "stream",
     "text": [
      "Feature WMH_PVD_ext: 0.15151\n",
      "Feature BMI: 0.09189\n",
      "Feature Kreat: 0.07353\n",
      "Feature LDL: 0.07309\n",
      "Feature DBP: 0.06919\n",
      "Feature Gluc: 0.06661\n",
      "Feature Trigly: 0.06549\n",
      "Feature HDL: 0.06402\n",
      "Feature Symp_Inf_aanw: 0.05936\n",
      "Feature SBP: 0.05531\n",
      "Feature leeftijd: 0.04563\n",
      "Feature Old_Inf_aanw: 0.03326\n",
      "Feature Statine: 0.02844\n",
      "Feature PVS_BG_ext: 0.02573\n",
      "Feature MDRD: 0.02289\n",
      "Feature Roken: 0.02001\n",
      "Feature Hypertensie: 0.01723\n",
      "Feature Hyperchol: 0.01298\n",
      "Feature PVS_CS_ext: 0.01134\n",
      "Feature geslacht: 0.00769\n",
      "Feature MB_totaal_aanw: 0.00351\n",
      "Feature DM: 0.00128\n",
      "Feature Perifeervaat: 0.00000\n"
     ]
    }
   ],
   "source": [
    "coefficients = coefficients.sort_values('Weight', ascending = False)\n",
    "coefficients = coefficients.reset_index()\n",
    "for i in range(len(coefficients.index)):\n",
    "    print('Feature %s: %.5f' % (coefficients.at[i,'Feature'], coefficients.at[i,'Weight']))"
   ]
  },
  {
   "cell_type": "code",
   "execution_count": null,
   "id": "fe9b337d",
   "metadata": {},
   "outputs": [],
   "source": []
  },
  {
   "cell_type": "code",
   "execution_count": null,
   "id": "f18fc5ea",
   "metadata": {},
   "outputs": [],
   "source": []
  },
  {
   "cell_type": "code",
   "execution_count": null,
   "id": "5f9c3663",
   "metadata": {},
   "outputs": [],
   "source": []
  }
 ],
 "metadata": {
  "kernelspec": {
   "display_name": "Python 3",
   "language": "python",
   "name": "python3"
  },
  "language_info": {
   "codemirror_mode": {
    "name": "ipython",
    "version": 3
   },
   "file_extension": ".py",
   "mimetype": "text/x-python",
   "name": "python",
   "nbconvert_exporter": "python",
   "pygments_lexer": "ipython3",
   "version": "3.9.4"
  }
 },
 "nbformat": 4,
 "nbformat_minor": 5
}
