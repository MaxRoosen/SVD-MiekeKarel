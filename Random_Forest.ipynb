{
 "cells": [
  {
   "cell_type": "code",
   "execution_count": 97,
   "id": "08559b10",
   "metadata": {},
   "outputs": [],
   "source": [
    "import pandas as pd\n",
    "from sklearn.datasets import load_digits\n",
    "digits = load_digits()"
   ]
  },
  {
   "cell_type": "code",
   "execution_count": 98,
   "id": "189572a6",
   "metadata": {},
   "outputs": [],
   "source": [
    "from pandas import read_csv\n",
    "data = read_csv('Model_D.csv', header=0, delimiter=';')"
   ]
  },
  {
   "cell_type": "code",
   "execution_count": 99,
   "id": "46209705",
   "metadata": {},
   "outputs": [],
   "source": [
    "if 'ppnnr' in data:\n",
    "\tdata = data.drop(['ppnnr'], axis='columns')\n",
    "# if 'DatInfo' in data:\n",
    "# \tdata = data.drop(['DatInfo'],axis='columns')\n",
    "# if 'Datbloed' in data:\n",
    "# \tdata = data.drop(['Datbloed'],axis='columns')\n",
    "# if 'DatMRI' in data:\n",
    "# \tdata = data.drop(['DatMRI'],axis='columns')\n",
    "# if 'Symp_Inf_code' in data:\n",
    "# \tdata = data.drop(['Symp_Inf_code'],axis='columns')\t\n",
    "#if 'Symp_Inf_aanw' in data:\n",
    "#\tdata = data.drop(['Symp_Inf_aanw'], axis='columns')\n",
    "#if 'PF4' in data:\n",
    "#\tdata = data.drop(['PF4'], axis='columns')\n",
    "#if 'MPO' in data:\n",
    "#\tdata = data.drop(['MPO'], axis='columns')\n",
    "#if 'fractalkine' in data:\n",
    "#\tdata = data.drop(['fractalkine'], axis='columns')\n",
    "#if 'B-TG' in data:\n",
    "#\tdata = data.drop(['B-TG'], axis='columns')"
   ]
  },
  {
   "cell_type": "code",
   "execution_count": 100,
   "id": "488b5701",
   "metadata": {},
   "outputs": [
    {
     "data": {
      "text/html": [
       "<div>\n",
       "<style scoped>\n",
       "    .dataframe tbody tr th:only-of-type {\n",
       "        vertical-align: middle;\n",
       "    }\n",
       "\n",
       "    .dataframe tbody tr th {\n",
       "        vertical-align: top;\n",
       "    }\n",
       "\n",
       "    .dataframe thead th {\n",
       "        text-align: right;\n",
       "    }\n",
       "</style>\n",
       "<table border=\"1\" class=\"dataframe\">\n",
       "  <thead>\n",
       "    <tr style=\"text-align: right;\">\n",
       "      <th></th>\n",
       "      <th>Group</th>\n",
       "      <th>geslacht</th>\n",
       "      <th>leeftijd</th>\n",
       "      <th>BMI</th>\n",
       "      <th>SBP</th>\n",
       "      <th>DBP</th>\n",
       "      <th>Coronairl</th>\n",
       "      <th>Hypertensie</th>\n",
       "      <th>DM</th>\n",
       "      <th>Hyperchol</th>\n",
       "      <th>...</th>\n",
       "      <th>WMH_PVD_ext</th>\n",
       "      <th>PVS_BG_ext</th>\n",
       "      <th>PVS_CS_ext</th>\n",
       "      <th>MB_totaal_aanw</th>\n",
       "      <th>PF4</th>\n",
       "      <th>MPO</th>\n",
       "      <th>Fractalkine</th>\n",
       "      <th>B-TG</th>\n",
       "      <th>DNA-MPO</th>\n",
       "      <th>S100A8/A9</th>\n",
       "    </tr>\n",
       "  </thead>\n",
       "  <tbody>\n",
       "    <tr>\n",
       "      <th>0</th>\n",
       "      <td>1</td>\n",
       "      <td>1</td>\n",
       "      <td>78</td>\n",
       "      <td>27.968016</td>\n",
       "      <td>147.5</td>\n",
       "      <td>83.5</td>\n",
       "      <td>0</td>\n",
       "      <td>0</td>\n",
       "      <td>0</td>\n",
       "      <td>1</td>\n",
       "      <td>...</td>\n",
       "      <td>1.0</td>\n",
       "      <td>1.0</td>\n",
       "      <td>1.0</td>\n",
       "      <td>0.0</td>\n",
       "      <td>579.617796</td>\n",
       "      <td>50.930128</td>\n",
       "      <td>0.00000</td>\n",
       "      <td>649.604336</td>\n",
       "      <td>2.603638</td>\n",
       "      <td>370.576566</td>\n",
       "    </tr>\n",
       "    <tr>\n",
       "      <th>1</th>\n",
       "      <td>1</td>\n",
       "      <td>2</td>\n",
       "      <td>65</td>\n",
       "      <td>22.656250</td>\n",
       "      <td>133.5</td>\n",
       "      <td>84.0</td>\n",
       "      <td>0</td>\n",
       "      <td>1</td>\n",
       "      <td>0</td>\n",
       "      <td>1</td>\n",
       "      <td>...</td>\n",
       "      <td>1.0</td>\n",
       "      <td>0.0</td>\n",
       "      <td>1.0</td>\n",
       "      <td>0.0</td>\n",
       "      <td>1476.815336</td>\n",
       "      <td>69.737767</td>\n",
       "      <td>0.00000</td>\n",
       "      <td>838.501862</td>\n",
       "      <td>1.700917</td>\n",
       "      <td>457.971595</td>\n",
       "    </tr>\n",
       "    <tr>\n",
       "      <th>2</th>\n",
       "      <td>1</td>\n",
       "      <td>2</td>\n",
       "      <td>55</td>\n",
       "      <td>31.202564</td>\n",
       "      <td>182.0</td>\n",
       "      <td>113.0</td>\n",
       "      <td>0</td>\n",
       "      <td>1</td>\n",
       "      <td>0</td>\n",
       "      <td>1</td>\n",
       "      <td>...</td>\n",
       "      <td>0.0</td>\n",
       "      <td>0.0</td>\n",
       "      <td>1.0</td>\n",
       "      <td>0.0</td>\n",
       "      <td>1069.126605</td>\n",
       "      <td>37.032702</td>\n",
       "      <td>0.00000</td>\n",
       "      <td>400.040008</td>\n",
       "      <td>3.225035</td>\n",
       "      <td>469.090441</td>\n",
       "    </tr>\n",
       "    <tr>\n",
       "      <th>3</th>\n",
       "      <td>1</td>\n",
       "      <td>1</td>\n",
       "      <td>46</td>\n",
       "      <td>32.824138</td>\n",
       "      <td>152.5</td>\n",
       "      <td>93.5</td>\n",
       "      <td>1</td>\n",
       "      <td>1</td>\n",
       "      <td>0</td>\n",
       "      <td>1</td>\n",
       "      <td>...</td>\n",
       "      <td>0.0</td>\n",
       "      <td>0.0</td>\n",
       "      <td>1.0</td>\n",
       "      <td>0.0</td>\n",
       "      <td>791.899402</td>\n",
       "      <td>286.256432</td>\n",
       "      <td>0.68914</td>\n",
       "      <td>795.610229</td>\n",
       "      <td>1.405755</td>\n",
       "      <td>404.603012</td>\n",
       "    </tr>\n",
       "    <tr>\n",
       "      <th>4</th>\n",
       "      <td>1</td>\n",
       "      <td>1</td>\n",
       "      <td>63</td>\n",
       "      <td>25.689562</td>\n",
       "      <td>140.0</td>\n",
       "      <td>82.5</td>\n",
       "      <td>0</td>\n",
       "      <td>0</td>\n",
       "      <td>0</td>\n",
       "      <td>1</td>\n",
       "      <td>...</td>\n",
       "      <td>0.0</td>\n",
       "      <td>0.0</td>\n",
       "      <td>1.0</td>\n",
       "      <td>0.0</td>\n",
       "      <td>563.766732</td>\n",
       "      <td>80.222767</td>\n",
       "      <td>0.00000</td>\n",
       "      <td>585.001695</td>\n",
       "      <td>2.226686</td>\n",
       "      <td>238.159000</td>\n",
       "    </tr>\n",
       "  </tbody>\n",
       "</table>\n",
       "<p>5 rows × 29 columns</p>\n",
       "</div>"
      ],
      "text/plain": [
       "   Group  geslacht  leeftijd        BMI    SBP    DBP  Coronairl  Hypertensie  \\\n",
       "0      1         1        78  27.968016  147.5   83.5          0            0   \n",
       "1      1         2        65  22.656250  133.5   84.0          0            1   \n",
       "2      1         2        55  31.202564  182.0  113.0          0            1   \n",
       "3      1         1        46  32.824138  152.5   93.5          1            1   \n",
       "4      1         1        63  25.689562  140.0   82.5          0            0   \n",
       "\n",
       "   DM  Hyperchol  ...  WMH_PVD_ext  PVS_BG_ext  PVS_CS_ext  MB_totaal_aanw  \\\n",
       "0   0          1  ...          1.0         1.0         1.0             0.0   \n",
       "1   0          1  ...          1.0         0.0         1.0             0.0   \n",
       "2   0          1  ...          0.0         0.0         1.0             0.0   \n",
       "3   0          1  ...          0.0         0.0         1.0             0.0   \n",
       "4   0          1  ...          0.0         0.0         1.0             0.0   \n",
       "\n",
       "           PF4         MPO  Fractalkine        B-TG   DNA-MPO   S100A8/A9  \n",
       "0   579.617796   50.930128      0.00000  649.604336  2.603638  370.576566  \n",
       "1  1476.815336   69.737767      0.00000  838.501862  1.700917  457.971595  \n",
       "2  1069.126605   37.032702      0.00000  400.040008  3.225035  469.090441  \n",
       "3   791.899402  286.256432      0.68914  795.610229  1.405755  404.603012  \n",
       "4   563.766732   80.222767      0.00000  585.001695  2.226686  238.159000  \n",
       "\n",
       "[5 rows x 29 columns]"
      ]
     },
     "execution_count": 100,
     "metadata": {},
     "output_type": "execute_result"
    }
   ],
   "source": [
    "data = data.dropna()\n",
    "data.head()"
   ]
  },
  {
   "cell_type": "code",
   "execution_count": 101,
   "id": "042d5923",
   "metadata": {},
   "outputs": [
    {
     "name": "stdout",
     "output_type": "stream",
     "text": [
      "1    78\n",
      "2    36\n",
      "Name: Group, dtype: int64\n"
     ]
    }
   ],
   "source": [
    "data['Group'].replace({2: 1}, inplace=True)\n",
    "data['Group'].replace({3: 2}, inplace=True)\n",
    "data.head()\n",
    "print(data['Group'].value_counts())"
   ]
  },
  {
   "cell_type": "code",
   "execution_count": 102,
   "id": "e1a47dfa",
   "metadata": {},
   "outputs": [],
   "source": [
    "from sklearn.model_selection import train_test_split\n",
    "X_train, X_test, y_train, y_test = train_test_split(data.drop(['Group'],axis='columns'),data['Group'],test_size=0.2)"
   ]
  },
  {
   "cell_type": "code",
   "execution_count": 103,
   "id": "8e3a9d49",
   "metadata": {},
   "outputs": [],
   "source": [
    "from sklearn.preprocessing import MinMaxScaler\n",
    "trans = MinMaxScaler()\n",
    "X_train_enc = trans.fit_transform(X_train)\n",
    "X_test_enc = trans.fit_transform(X_test)"
   ]
  },
  {
   "cell_type": "code",
   "execution_count": 104,
   "id": "db93e608",
   "metadata": {},
   "outputs": [
    {
     "data": {
      "text/plain": [
       "RandomForestClassifier(oob_score=True)"
      ]
     },
     "execution_count": 104,
     "metadata": {},
     "output_type": "execute_result"
    }
   ],
   "source": [
    "from sklearn.ensemble import RandomForestClassifier\n",
    "model = RandomForestClassifier(n_estimators=100, oob_score = True)\n",
    "model.fit(X_train_enc, y_train)"
   ]
  },
  {
   "cell_type": "code",
   "execution_count": 105,
   "id": "4aaf275a",
   "metadata": {},
   "outputs": [
    {
     "name": "stdout",
     "output_type": "stream",
     "text": [
      "0.7472527472527473\n"
     ]
    }
   ],
   "source": [
    "print(model.oob_score_)"
   ]
  },
  {
   "cell_type": "code",
   "execution_count": 106,
   "id": "72a6e93b",
   "metadata": {},
   "outputs": [
    {
     "data": {
      "text/plain": [
       "0.6086956521739131"
      ]
     },
     "execution_count": 106,
     "metadata": {},
     "output_type": "execute_result"
    }
   ],
   "source": [
    "model.score(X_test_enc,y_test)"
   ]
  },
  {
   "cell_type": "code",
   "execution_count": 107,
   "id": "adb054ab",
   "metadata": {},
   "outputs": [
    {
     "data": {
      "text/plain": [
       "array([0.00330881, 0.04746121, 0.05880812, 0.06383111, 0.05992462,\n",
       "       0.00380981, 0.00773656, 0.00540361, 0.02020298, 0.00080936,\n",
       "       0.00511807, 0.03235637, 0.04154882, 0.01119355, 0.1225918 ,\n",
       "       0.0355536 , 0.03607154, 0.05074129, 0.04434122, 0.04963653,\n",
       "       0.01133951, 0.00135827, 0.04245776, 0.08491714, 0.02265942,\n",
       "       0.04031569, 0.04709625, 0.04940698])"
      ]
     },
     "execution_count": 107,
     "metadata": {},
     "output_type": "execute_result"
    }
   ],
   "source": [
    "model.feature_importances_"
   ]
  },
  {
   "cell_type": "code",
   "execution_count": 108,
   "id": "19def600",
   "metadata": {},
   "outputs": [],
   "source": [
    "import numpy as np"
   ]
  },
  {
   "cell_type": "code",
   "execution_count": 109,
   "id": "b4c25400",
   "metadata": {},
   "outputs": [
    {
     "data": {
      "text/plain": [
       "array(['geslacht', 'leeftijd', 'BMI', 'SBP', 'DBP', 'Coronairl',\n",
       "       'Hypertensie', 'DM', 'Hyperchol', 'Perifeervaat', 'Roken', 'Gluc',\n",
       "       'Kreat', 'MDRD', 'LDL', 'HDL', 'Trigly', 'Old_Inf_aanw',\n",
       "       'WMH_PVD_ext', 'PVS_BG_ext', 'PVS_CS_ext', 'MB_totaal_aanw', 'PF4',\n",
       "       'MPO', 'Fractalkine', 'B-TG', 'DNA-MPO', 'S100A8/A9'], dtype=object)"
      ]
     },
     "execution_count": 109,
     "metadata": {},
     "output_type": "execute_result"
    }
   ],
   "source": [
    "features = data.columns.values\n",
    "#features = features[(features != 'Group') & (features != 'Symp_Inf_aanw')]\n",
    "features = features[(features != 'Group')]\n",
    "features"
   ]
  },
  {
   "cell_type": "code",
   "execution_count": 110,
   "id": "3124702b",
   "metadata": {},
   "outputs": [],
   "source": [
    "import pandas as pd\n",
    "coefficients = pd.DataFrame({'Feature': features, 'Weight':model.feature_importances_}, columns=['Feature', 'Weight'])"
   ]
  },
  {
   "cell_type": "code",
   "execution_count": 111,
   "id": "d0eb292c",
   "metadata": {},
   "outputs": [
    {
     "name": "stdout",
     "output_type": "stream",
     "text": [
      "Feature LDL: 0.12259\n",
      "Feature MPO: 0.08492\n",
      "Feature SBP: 0.06383\n",
      "Feature DBP: 0.05992\n",
      "Feature BMI: 0.05881\n",
      "Feature Old_Inf_aanw: 0.05074\n",
      "Feature PVS_BG_ext: 0.04964\n",
      "Feature S100A8/A9: 0.04941\n",
      "Feature leeftijd: 0.04746\n",
      "Feature DNA-MPO: 0.04710\n",
      "Feature WMH_PVD_ext: 0.04434\n",
      "Feature PF4: 0.04246\n",
      "Feature Kreat: 0.04155\n",
      "Feature B-TG: 0.04032\n",
      "Feature Trigly: 0.03607\n",
      "Feature HDL: 0.03555\n",
      "Feature Gluc: 0.03236\n",
      "Feature Fractalkine: 0.02266\n",
      "Feature Hyperchol: 0.02020\n",
      "Feature PVS_CS_ext: 0.01134\n",
      "Feature MDRD: 0.01119\n",
      "Feature Hypertensie: 0.00774\n",
      "Feature DM: 0.00540\n",
      "Feature Roken: 0.00512\n",
      "Feature Coronairl: 0.00381\n",
      "Feature geslacht: 0.00331\n",
      "Feature MB_totaal_aanw: 0.00136\n",
      "Feature Perifeervaat: 0.00081\n"
     ]
    }
   ],
   "source": [
    "coefficients = coefficients.sort_values('Weight', ascending = False)\n",
    "coefficients = coefficients.reset_index()\n",
    "for i in range(len(coefficients.index)):\n",
    "    print('Feature %s: %.5f' % (coefficients.at[i,'Feature'], coefficients.at[i,'Weight']))"
   ]
  },
  {
   "cell_type": "code",
   "execution_count": 112,
   "id": "fe9b337d",
   "metadata": {},
   "outputs": [
    {
     "name": "stdout",
     "output_type": "stream",
     "text": [
      "[[14  1]\n",
      " [ 8  0]]\n"
     ]
    }
   ],
   "source": [
    "# Make predictions for the test set\n",
    "y_pred_test = model.predict(X_test_enc)\n",
    "\n",
    "# Visualise classical Confusion M0atrix\n",
    "from sklearn.metrics import confusion_matrix\n",
    "CM = confusion_matrix(y_test, y_pred_test)\n",
    "print(CM)"
   ]
  },
  {
   "cell_type": "code",
   "execution_count": 113,
   "id": "f18fc5ea",
   "metadata": {},
   "outputs": [
    {
     "data": {
      "image/png": "[encoded data removed]",
      "text/plain": [
       "<Figure size 432x288 with 1 Axes>"
      ]
     },
     "metadata": {
      "needs_background": "light"
     },
     "output_type": "display_data"
    }
   ],
   "source": [
    "import matplotlib.pyplot as plt\n",
    "# Visualize it as a heatmap\n",
    "# Plot confusion matrix\n",
    "plt.imshow(CM,interpolation='none',cmap='Blues')\n",
    "for (i, j), z in np.ndenumerate(CM):\n",
    "    plt.text(j, i, z, ha='center', va='center')\n",
    "plt.xlabel(\"RandomForest label\")\n",
    "plt.ylabel(\"truth label\")\n",
    "plt.show()"
   ]
  },
  {
   "cell_type": "code",
   "execution_count": null,
   "id": "5f9c3663",
   "metadata": {},
   "outputs": [],
   "source": []
  }
 ],
 "metadata": {
  "kernelspec": {
   "display_name": "Python 3",
   "language": "python",
   "name": "python3"
  },
  "language_info": {
   "codemirror_mode": {
    "name": "ipython",
    "version": 3
   },
   "file_extension": ".py",
   "mimetype": "text/x-python",
   "name": "python",
   "nbconvert_exporter": "python",
   "pygments_lexer": "ipython3",
   "version": "3.9.4"
  }
 },
 "nbformat": 4,
 "nbformat_minor": 5
}
